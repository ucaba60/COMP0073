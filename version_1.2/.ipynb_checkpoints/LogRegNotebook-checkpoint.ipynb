{
 "cells": [
  {
   "cell_type": "code",
   "execution_count": 8,
   "id": "b591d34a",
   "metadata": {},
   "outputs": [],
   "source": [
    "import pandas as pd\n",
    "from sklearn.model_selection import train_test_split, GridSearchCV , StratifiedKFold\n",
    "from sklearn.linear_model import LogisticRegression\n",
    "from sklearn.metrics import classification_report\n",
    "from sklearn.metrics import accuracy_score\n",
    "from sklearn.feature_selection import RFECV\n",
    "from sklearn.preprocessing import StandardScaler\n",
    "import warnings\n",
    "import joblib\n",
    "import numpy as np\n",
    "from sklearn.model_selection import RandomizedSearchCV, learning_curve\n",
    "import os\n",
    "from sklearn.metrics import confusion_matrix, roc_auc_score, roc_curve\n"
   ]
  },
  {
   "cell_type": "code",
   "execution_count": 9,
   "id": "019d0208",
   "metadata": {},
   "outputs": [],
   "source": [
    "# # Filter out warnings from GridSearchCV\n",
    "# warnings.filterwarnings('ignore')"
   ]
  },
  {
   "cell_type": "code",
   "execution_count": 10,
   "id": "d4df9187",
   "metadata": {},
   "outputs": [],
   "source": [
    "# Load the dataset\n",
    "data = pd.read_csv('data_matrix_gpt-3.5-turbo.csv')\n",
    "\n",
    "# Assuming the last column is 'label' that contains your classifications\n",
    "# Split the data into X (the input features) and y (the target)\n",
    "X = data.iloc[:, :-1]\n",
    "y = data.iloc[:, -1]\n",
    "\n",
    "# Split the data into training and testing sets\n",
    "X_train, X_test, y_train, y_test = train_test_split(X, y, test_size=0.2, random_state=42)\n"
   ]
  },
  {
   "cell_type": "code",
   "execution_count": 11,
   "id": "e62d3f37",
   "metadata": {},
   "outputs": [
    {
     "data": {
      "text/plain": [
       "['trained_scaler_svm.pkl']"
      ]
     },
     "execution_count": 11,
     "metadata": {},
     "output_type": "execute_result"
    }
   ],
   "source": [
    "# Scale the data\n",
    "scaler = StandardScaler()\n",
    "X_train_scaled = scaler.fit_transform(X_train)\n",
    "X_test_scaled = scaler.transform(X_test)\n",
    "\n",
    "# Save the trained scaler\n",
    "joblib.dump(scaler, 'trained_scaler_svm.pkl')"
   ]
  },
  {
   "cell_type": "code",
   "execution_count": 12,
   "id": "892eaaf2",
   "metadata": {},
   "outputs": [],
   "source": [
    "# Initialize the model\n",
    "logreg = LogisticRegression(max_iter=10000)\n"
   ]
  },
  {
   "cell_type": "code",
   "execution_count": 13,
   "id": "8a69e7b9",
   "metadata": {},
   "outputs": [],
   "source": [
    "param_grid = {\n",
    "    'solver': ['newton-cg', 'lbfgs', 'sag', 'saga', 'liblinear'],\n",
    "    'penalty': ['l2'],\n",
    "    'C': [0.001, 0.01, 0.1, 1, 10, 100, 1000]  # Inverse of regularization strength\n",
    "}\n",
    "\n",
    "param_grid_l1 = {\n",
    "    'solver': ['liblinear', 'saga'],\n",
    "    'penalty': ['l1'],\n",
    "    'C': [0.001, 0.01, 0.1, 1, 10, 100, 1000]  # Inverse of regularization strength\n",
    "}\n",
    "\n",
    "param_grid_elasticnet = {\n",
    "    'solver': ['saga'],\n",
    "    'penalty': ['elasticnet'],\n",
    "    'l1_ratio': [i/10.0 for i in range(11)],  # Increments of 0.1 from 0 to 1\n",
    "    'C': [0.001, 0.01, 0.1, 1, 10, 100, 1000]  # Inverse of regularization strength\n",
    "}\n",
    "\n",
    "param_grid = [param_grid, param_grid_l1, param_grid_elasticnet]"
   ]
  },
  {
   "cell_type": "code",
   "execution_count": 14,
   "id": "d9207e38",
   "metadata": {},
   "outputs": [],
   "source": [
    "# Create a GridSearchCV object\n",
    "grid = GridSearchCV(logreg, param_grid, cv=5, verbose=True, n_jobs=-1)"
   ]
  },
  {
   "cell_type": "code",
   "execution_count": 15,
   "id": "4c879dff",
   "metadata": {},
   "outputs": [
    {
     "name": "stdout",
     "output_type": "stream",
     "text": [
      "Fitting 5 folds for each of 126 candidates, totalling 630 fits\n"
     ]
    },
    {
     "data": {
      "text/html": [
       "<style>#sk-container-id-1 {color: black;}#sk-container-id-1 pre{padding: 0;}#sk-container-id-1 div.sk-toggleable {background-color: white;}#sk-container-id-1 label.sk-toggleable__label {cursor: pointer;display: block;width: 100%;margin-bottom: 0;padding: 0.3em;box-sizing: border-box;text-align: center;}#sk-container-id-1 label.sk-toggleable__label-arrow:before {content: \"▸\";float: left;margin-right: 0.25em;color: #696969;}#sk-container-id-1 label.sk-toggleable__label-arrow:hover:before {color: black;}#sk-container-id-1 div.sk-estimator:hover label.sk-toggleable__label-arrow:before {color: black;}#sk-container-id-1 div.sk-toggleable__content {max-height: 0;max-width: 0;overflow: hidden;text-align: left;background-color: #f0f8ff;}#sk-container-id-1 div.sk-toggleable__content pre {margin: 0.2em;color: black;border-radius: 0.25em;background-color: #f0f8ff;}#sk-container-id-1 input.sk-toggleable__control:checked~div.sk-toggleable__content {max-height: 200px;max-width: 100%;overflow: auto;}#sk-container-id-1 input.sk-toggleable__control:checked~label.sk-toggleable__label-arrow:before {content: \"▾\";}#sk-container-id-1 div.sk-estimator input.sk-toggleable__control:checked~label.sk-toggleable__label {background-color: #d4ebff;}#sk-container-id-1 div.sk-label input.sk-toggleable__control:checked~label.sk-toggleable__label {background-color: #d4ebff;}#sk-container-id-1 input.sk-hidden--visually {border: 0;clip: rect(1px 1px 1px 1px);clip: rect(1px, 1px, 1px, 1px);height: 1px;margin: -1px;overflow: hidden;padding: 0;position: absolute;width: 1px;}#sk-container-id-1 div.sk-estimator {font-family: monospace;background-color: #f0f8ff;border: 1px dotted black;border-radius: 0.25em;box-sizing: border-box;margin-bottom: 0.5em;}#sk-container-id-1 div.sk-estimator:hover {background-color: #d4ebff;}#sk-container-id-1 div.sk-parallel-item::after {content: \"\";width: 100%;border-bottom: 1px solid gray;flex-grow: 1;}#sk-container-id-1 div.sk-label:hover label.sk-toggleable__label {background-color: #d4ebff;}#sk-container-id-1 div.sk-serial::before {content: \"\";position: absolute;border-left: 1px solid gray;box-sizing: border-box;top: 0;bottom: 0;left: 50%;z-index: 0;}#sk-container-id-1 div.sk-serial {display: flex;flex-direction: column;align-items: center;background-color: white;padding-right: 0.2em;padding-left: 0.2em;position: relative;}#sk-container-id-1 div.sk-item {position: relative;z-index: 1;}#sk-container-id-1 div.sk-parallel {display: flex;align-items: stretch;justify-content: center;background-color: white;position: relative;}#sk-container-id-1 div.sk-item::before, #sk-container-id-1 div.sk-parallel-item::before {content: \"\";position: absolute;border-left: 1px solid gray;box-sizing: border-box;top: 0;bottom: 0;left: 50%;z-index: -1;}#sk-container-id-1 div.sk-parallel-item {display: flex;flex-direction: column;z-index: 1;position: relative;background-color: white;}#sk-container-id-1 div.sk-parallel-item:first-child::after {align-self: flex-end;width: 50%;}#sk-container-id-1 div.sk-parallel-item:last-child::after {align-self: flex-start;width: 50%;}#sk-container-id-1 div.sk-parallel-item:only-child::after {width: 0;}#sk-container-id-1 div.sk-dashed-wrapped {border: 1px dashed gray;margin: 0 0.4em 0.5em 0.4em;box-sizing: border-box;padding-bottom: 0.4em;background-color: white;}#sk-container-id-1 div.sk-label label {font-family: monospace;font-weight: bold;display: inline-block;line-height: 1.2em;}#sk-container-id-1 div.sk-label-container {text-align: center;}#sk-container-id-1 div.sk-container {/* jupyter's `normalize.less` sets `[hidden] { display: none; }` but bootstrap.min.css set `[hidden] { display: none !important; }` so we also need the `!important` here to be able to override the default hidden behavior on the sphinx rendered scikit-learn.org. See: https://github.com/scikit-learn/scikit-learn/issues/21755 */display: inline-block !important;position: relative;}#sk-container-id-1 div.sk-text-repr-fallback {display: none;}</style><div id=\"sk-container-id-1\" class=\"sk-top-container\"><div class=\"sk-text-repr-fallback\"><pre>GridSearchCV(cv=5, estimator=LogisticRegression(max_iter=10000), n_jobs=-1,\n",
       "             param_grid=[{&#x27;C&#x27;: [0.001, 0.01, 0.1, 1, 10, 100, 1000],\n",
       "                          &#x27;penalty&#x27;: [&#x27;l2&#x27;],\n",
       "                          &#x27;solver&#x27;: [&#x27;newton-cg&#x27;, &#x27;lbfgs&#x27;, &#x27;sag&#x27;, &#x27;saga&#x27;,\n",
       "                                     &#x27;liblinear&#x27;]},\n",
       "                         {&#x27;C&#x27;: [0.001, 0.01, 0.1, 1, 10, 100, 1000],\n",
       "                          &#x27;penalty&#x27;: [&#x27;l1&#x27;], &#x27;solver&#x27;: [&#x27;liblinear&#x27;, &#x27;saga&#x27;]},\n",
       "                         {&#x27;C&#x27;: [0.001, 0.01, 0.1, 1, 10, 100, 1000],\n",
       "                          &#x27;l1_ratio&#x27;: [0.0, 0.1, 0.2, 0.3, 0.4, 0.5, 0.6, 0.7,\n",
       "                                       0.8, 0.9, 1.0],\n",
       "                          &#x27;penalty&#x27;: [&#x27;elasticnet&#x27;], &#x27;solver&#x27;: [&#x27;saga&#x27;]}],\n",
       "             verbose=True)</pre><b>In a Jupyter environment, please rerun this cell to show the HTML representation or trust the notebook. <br />On GitHub, the HTML representation is unable to render, please try loading this page with nbviewer.org.</b></div><div class=\"sk-container\" hidden><div class=\"sk-item sk-dashed-wrapped\"><div class=\"sk-label-container\"><div class=\"sk-label sk-toggleable\"><input class=\"sk-toggleable__control sk-hidden--visually\" id=\"sk-estimator-id-1\" type=\"checkbox\" ><label for=\"sk-estimator-id-1\" class=\"sk-toggleable__label sk-toggleable__label-arrow\">GridSearchCV</label><div class=\"sk-toggleable__content\"><pre>GridSearchCV(cv=5, estimator=LogisticRegression(max_iter=10000), n_jobs=-1,\n",
       "             param_grid=[{&#x27;C&#x27;: [0.001, 0.01, 0.1, 1, 10, 100, 1000],\n",
       "                          &#x27;penalty&#x27;: [&#x27;l2&#x27;],\n",
       "                          &#x27;solver&#x27;: [&#x27;newton-cg&#x27;, &#x27;lbfgs&#x27;, &#x27;sag&#x27;, &#x27;saga&#x27;,\n",
       "                                     &#x27;liblinear&#x27;]},\n",
       "                         {&#x27;C&#x27;: [0.001, 0.01, 0.1, 1, 10, 100, 1000],\n",
       "                          &#x27;penalty&#x27;: [&#x27;l1&#x27;], &#x27;solver&#x27;: [&#x27;liblinear&#x27;, &#x27;saga&#x27;]},\n",
       "                         {&#x27;C&#x27;: [0.001, 0.01, 0.1, 1, 10, 100, 1000],\n",
       "                          &#x27;l1_ratio&#x27;: [0.0, 0.1, 0.2, 0.3, 0.4, 0.5, 0.6, 0.7,\n",
       "                                       0.8, 0.9, 1.0],\n",
       "                          &#x27;penalty&#x27;: [&#x27;elasticnet&#x27;], &#x27;solver&#x27;: [&#x27;saga&#x27;]}],\n",
       "             verbose=True)</pre></div></div></div><div class=\"sk-parallel\"><div class=\"sk-parallel-item\"><div class=\"sk-item\"><div class=\"sk-label-container\"><div class=\"sk-label sk-toggleable\"><input class=\"sk-toggleable__control sk-hidden--visually\" id=\"sk-estimator-id-2\" type=\"checkbox\" ><label for=\"sk-estimator-id-2\" class=\"sk-toggleable__label sk-toggleable__label-arrow\">estimator: LogisticRegression</label><div class=\"sk-toggleable__content\"><pre>LogisticRegression(max_iter=10000)</pre></div></div></div><div class=\"sk-serial\"><div class=\"sk-item\"><div class=\"sk-estimator sk-toggleable\"><input class=\"sk-toggleable__control sk-hidden--visually\" id=\"sk-estimator-id-3\" type=\"checkbox\" ><label for=\"sk-estimator-id-3\" class=\"sk-toggleable__label sk-toggleable__label-arrow\">LogisticRegression</label><div class=\"sk-toggleable__content\"><pre>LogisticRegression(max_iter=10000)</pre></div></div></div></div></div></div></div></div></div></div>"
      ],
      "text/plain": [
       "GridSearchCV(cv=5, estimator=LogisticRegression(max_iter=10000), n_jobs=-1,\n",
       "             param_grid=[{'C': [0.001, 0.01, 0.1, 1, 10, 100, 1000],\n",
       "                          'penalty': ['l2'],\n",
       "                          'solver': ['newton-cg', 'lbfgs', 'sag', 'saga',\n",
       "                                     'liblinear']},\n",
       "                         {'C': [0.001, 0.01, 0.1, 1, 10, 100, 1000],\n",
       "                          'penalty': ['l1'], 'solver': ['liblinear', 'saga']},\n",
       "                         {'C': [0.001, 0.01, 0.1, 1, 10, 100, 1000],\n",
       "                          'l1_ratio': [0.0, 0.1, 0.2, 0.3, 0.4, 0.5, 0.6, 0.7,\n",
       "                                       0.8, 0.9, 1.0],\n",
       "                          'penalty': ['elasticnet'], 'solver': ['saga']}],\n",
       "             verbose=True)"
      ]
     },
     "execution_count": 15,
     "metadata": {},
     "output_type": "execute_result"
    }
   ],
   "source": [
    "# Fit the model\n",
    "grid.fit(X_train_scaled, y_train)"
   ]
  },
  {
   "cell_type": "code",
   "execution_count": 16,
   "id": "769d2026",
   "metadata": {},
   "outputs": [
    {
     "name": "stdout",
     "output_type": "stream",
     "text": [
      "Best parameters found:  {'C': 100, 'penalty': 'l2', 'solver': 'sag'}\n"
     ]
    }
   ],
   "source": [
    "# Print the best parameters found by GridSearchCV\n",
    "print(\"Best parameters found: \", grid.best_params_)\n"
   ]
  },
  {
   "cell_type": "code",
   "execution_count": 18,
   "id": "2ddd3c67",
   "metadata": {},
   "outputs": [
    {
     "name": "stdout",
     "output_type": "stream",
     "text": [
      "File 'best_params_logreg.pkl' already exists. Do you want to overwrite it? (yes/no)\n",
      "yes\n",
      "File 'best_params_logreg.pkl' has been overwritten.\n"
     ]
    }
   ],
   "source": [
    "# Define the file name\n",
    "filename = 'best_params_logreg.pkl'\n",
    "\n",
    "# Check if the file already exists\n",
    "if os.path.exists(filename):\n",
    "    # Ask the user if they want to overwrite the existing file\n",
    "    print(f\"File '{filename}' already exists. Do you want to overwrite it? (yes/no)\")\n",
    "    response = input()\n",
    "\n",
    "    if response.lower() == 'yes':\n",
    "        # Save best parameters to a file\n",
    "        joblib.dump(grid.best_params_, filename)\n",
    "        print(f\"File '{filename}' has been overwritten.\")\n",
    "    else:\n",
    "        print(\"The existing file was not overwritten.\")\n",
    "else:\n",
    "    # Save best parameters to a file\n",
    "    joblib.dump(grid.best_params_, filename)\n",
    "    print(f\"File '{filename}' has been created.\")"
   ]
  },
  {
   "cell_type": "code",
   "execution_count": 19,
   "id": "1b591e79",
   "metadata": {},
   "outputs": [],
   "source": [
    "# Predict the classes for the testing set\n",
    "y_pred = grid.predict(X_test_scaled)\n"
   ]
  },
  {
   "cell_type": "code",
   "execution_count": null,
   "id": "b469d843",
   "metadata": {},
   "outputs": [],
   "source": []
  },
  {
   "cell_type": "code",
   "execution_count": null,
   "id": "f5707ff1",
   "metadata": {},
   "outputs": [],
   "source": []
  },
  {
   "cell_type": "code",
   "execution_count": 20,
   "id": "f037b005",
   "metadata": {},
   "outputs": [
    {
     "name": "stdout",
     "output_type": "stream",
     "text": [
      "              precision    recall  f1-score   support\n",
      "\n",
      "           0       0.94      0.92      0.93       178\n",
      "           1       0.90      0.93      0.92       152\n",
      "\n",
      "    accuracy                           0.92       330\n",
      "   macro avg       0.92      0.92      0.92       330\n",
      "weighted avg       0.92      0.92      0.92       330\n",
      "\n",
      "Accuracy: 0.9242424242424242\n"
     ]
    }
   ],
   "source": [
    "# Print out the classification report and accuracy\n",
    "print(classification_report(y_test, y_pred))\n",
    "print(\"Accuracy:\", accuracy_score(y_test, y_pred))\n"
   ]
  },
  {
   "cell_type": "code",
   "execution_count": 21,
   "id": "de96cc5b",
   "metadata": {},
   "outputs": [
    {
     "data": {
      "text/plain": [
       "['trained_model_logreg.pkl']"
      ]
     },
     "execution_count": 21,
     "metadata": {},
     "output_type": "execute_result"
    }
   ],
   "source": [
    "# Save the best model\n",
    "joblib.dump(grid.best_estimator_, 'trained_model_logreg.pkl')\n"
   ]
  },
  {
   "cell_type": "code",
   "execution_count": null,
   "id": "cc7986ec",
   "metadata": {},
   "outputs": [],
   "source": []
  },
  {
   "cell_type": "code",
   "execution_count": 22,
   "id": "45b07ee6",
   "metadata": {},
   "outputs": [
    {
     "name": "stdout",
     "output_type": "stream",
     "text": [
      "Optimal number of features : 39\n",
      "Feature ranking:  [1 1 1 1 1 1 1 1 1 1 1 1 1 1 1 2 1 1 1 1 1 1 1 1 1 1 1 1 1 1 1 1 1 1 1 3 1\n",
      " 1 1 1 1]\n",
      "Selected Features:  ['ADJ', 'ADV', 'CONJ', 'NOUN', 'NUM', 'VERB', 'COMMA', 'FULLSTOP', 'SPECIAL-', 'FUNCTION-A', 'FUNCTION-IN', 'FUNCTION-OF', 'FUNCTION-THE', 'uppercase_freq', 'flesch_reading_ease', 'avg_word_length', 'avg_sentence_length', 'text_perplexity', 'avg_sentence_perplexity', 'prompt_text_cosine_similarity', 'avg_sentence_cosine_similarity', 'tf_idfs_get', 'tf_idfs_like', 'tf_idfs_sum', 'tf_idfs_summary', 'tf_idfs_overall', 'tf_idfs_summarize', 'tf_idfs_dont', 'tf_idfs_say', 'tf_idfs_im', 'tf_idfs_look', 'tf_idfs_said', 'tf_idfs_know', 'tf_idfs_think', 'tf_idfs_end', 'tf_idfs_conclude', 'tf_idfs_told', 'tf_idfs_conclusion', 'tf_idfs_finale']\n"
     ]
    }
   ],
   "source": [
    "\n",
    "# Feature selection with RFECV (Recursive Feature Elimination with Cross-Validation)\n",
    "selector = RFECV(logreg, step=1, cv=5)\n",
    "selector = selector.fit(X, y)\n",
    "print(\"Optimal number of features : %d\" % selector.n_features_)\n",
    "\n",
    "# Print out the ranking of the features. The lower the rank, the more important the feature.\n",
    "# Features with a rank of 1 are selected.\n",
    "print(\"Feature ranking: \", selector.ranking_)\n",
    "\n",
    "# Get the features selected\n",
    "selected_features = [f for f, r in zip(X.columns, selector.ranking_) if r == 1]\n",
    "print(\"Selected Features: \", selected_features)"
   ]
  },
  {
   "cell_type": "markdown",
   "id": "e23b9de2",
   "metadata": {},
   "source": [
    "## This is suggesting that flesch reading grade is not useful, which makes sense it is highly correlated with reading_ease"
   ]
  },
  {
   "cell_type": "code",
   "execution_count": 23,
   "id": "9e282fa2",
   "metadata": {},
   "outputs": [
    {
     "name": "stdout",
     "output_type": "stream",
     "text": [
      "                           Feature  Ranking\n",
      "0                              ADJ        1\n",
      "22                     tf_idfs_get        1\n",
      "23                    tf_idfs_like        1\n",
      "24                     tf_idfs_sum        1\n",
      "25                 tf_idfs_summary        1\n",
      "26                 tf_idfs_overall        1\n",
      "27               tf_idfs_summarize        1\n",
      "28                    tf_idfs_dont        1\n",
      "21  avg_sentence_cosine_similarity        1\n",
      "29                     tf_idfs_say        1\n",
      "31                    tf_idfs_look        1\n",
      "32                    tf_idfs_said        1\n",
      "33                    tf_idfs_know        1\n",
      "34                   tf_idfs_think        1\n",
      "36                     tf_idfs_end        1\n",
      "37                tf_idfs_conclude        1\n",
      "38                    tf_idfs_told        1\n",
      "30                      tf_idfs_im        1\n",
      "39              tf_idfs_conclusion        1\n",
      "20   prompt_text_cosine_similarity        1\n",
      "18                 text_perplexity        1\n",
      "1                              ADV        1\n",
      "2                             CONJ        1\n",
      "3                             NOUN        1\n",
      "4                              NUM        1\n",
      "5                             VERB        1\n",
      "6                            COMMA        1\n",
      "7                         FULLSTOP        1\n",
      "19         avg_sentence_perplexity        1\n",
      "8                         SPECIAL-        1\n",
      "10                     FUNCTION-IN        1\n",
      "11                     FUNCTION-OF        1\n",
      "12                    FUNCTION-THE        1\n",
      "13                  uppercase_freq        1\n",
      "14             flesch_reading_ease        1\n",
      "16                 avg_word_length        1\n",
      "17             avg_sentence_length        1\n",
      "9                       FUNCTION-A        1\n",
      "40                  tf_idfs_finale        1\n",
      "15      flesch_kincaid_grade_level        2\n",
      "35               tf_idfs_summarise        3\n"
     ]
    }
   ],
   "source": [
    "# Create a pandas DataFrame from the feature selection results\n",
    "features_df = pd.DataFrame({\n",
    "    'Feature': X.columns,\n",
    "    'Ranking': selector.ranking_\n",
    "})\n",
    "\n",
    "# Sort the DataFrame by the ranking in ascending order\n",
    "features_df = features_df.sort_values(by='Ranking')\n",
    "\n",
    "# Display the DataFrame\n",
    "print(features_df)"
   ]
  },
  {
   "cell_type": "code",
   "execution_count": 26,
   "id": "1dffedd4",
   "metadata": {},
   "outputs": [
    {
     "data": {
      "image/png": "[encoded data removed]",
      "text/plain": [
       "<Figure size 1200x800 with 1 Axes>"
      ]
     },
     "metadata": {},
     "output_type": "display_data"
    }
   ],
   "source": [
    "import matplotlib.pyplot as plt\n",
    "import seaborn as sns\n",
    "\n",
    "# Create a bar plot of the feature importance\n",
    "plt.figure(figsize=(12, 8))\n",
    "sns.barplot(x='Ranking', y='Feature', data=features_df, palette='viridis')\n",
    "plt.title('Feature Importance')\n",
    "plt.show()"
   ]
  },
  {
   "cell_type": "markdown",
   "id": "6c05f93e",
   "metadata": {},
   "source": [
    "# Therefore we will drop the Reading Grade"
   ]
  },
  {
   "cell_type": "code",
   "execution_count": null,
   "id": "af0dbbf7",
   "metadata": {},
   "outputs": [],
   "source": []
  },
  {
   "cell_type": "code",
   "execution_count": null,
   "id": "74bce2f3",
   "metadata": {},
   "outputs": [],
   "source": []
  },
  {
   "cell_type": "code",
   "execution_count": null,
   "id": "bdc19761",
   "metadata": {},
   "outputs": [],
   "source": []
  },
  {
   "cell_type": "code",
   "execution_count": null,
   "id": "3331e691",
   "metadata": {},
   "outputs": [],
   "source": []
  },
  {
   "cell_type": "code",
   "execution_count": null,
   "id": "b8b3a2fc",
   "metadata": {},
   "outputs": [],
   "source": []
  },
  {
   "cell_type": "code",
   "execution_count": null,
   "id": "7220610e",
   "metadata": {},
   "outputs": [],
   "source": []
  },
  {
   "cell_type": "markdown",
   "id": "306286cd",
   "metadata": {},
   "source": [
    "## VISUAL REPRESENTATION"
   ]
  },
  {
   "cell_type": "code",
   "execution_count": null,
   "id": "053ae7a3",
   "metadata": {},
   "outputs": [],
   "source": []
  },
  {
   "cell_type": "code",
   "execution_count": null,
   "id": "e0276960",
   "metadata": {},
   "outputs": [
    {
     "name": "stderr",
     "output_type": "stream",
     "text": [
      "C:\\Users\\atana\\anaconda3\\envs\\MScProject\\lib\\site-packages\\sklearn\\svm\\_base.py:1242: ConvergenceWarning: Liblinear failed to converge, increase the number of iterations.\n",
      "  warnings.warn(\n"
     ]
    }
   ],
   "source": [
    "# Create CV training and test scores for various training set sizes\n",
    "train_sizes, train_scores, test_scores = learning_curve(grid.best_estimator_, \n",
    "                                                        X_train_scaled, \n",
    "                                                        y_train,\n",
    "                                                        cv=5,\n",
    "                                                        scoring='accuracy')\n",
    "\n",
    "# Create means and standard deviations of training set scores\n",
    "train_mean = np.mean(train_scores, axis=1)\n",
    "train_std = np.std(train_scores, axis=1)\n",
    "\n",
    "# Create means and standard deviations of test set scores\n",
    "test_mean = np.mean(test_scores, axis=1)\n",
    "test_std = np.std(test_scores, axis=1)\n",
    "\n",
    "\n",
    "# Define colors\n",
    "train_color = \"#1f77b4\"  # Blue\n",
    "test_color = \"#ff7f0e\"   # Orange\n",
    "std_color = \"#DDDDDD\"    # Light gray\n",
    "\n",
    "# Draw lines\n",
    "plt.plot(train_sizes, train_mean, '--', color=train_color,  label=\"Training score\")\n",
    "plt.plot(train_sizes, test_mean, color=test_color, label=\"Cross-validation score\")\n",
    "\n",
    "# Draw bands\n",
    "plt.fill_between(train_sizes, train_mean - train_std, train_mean + train_std, color=std_color)\n",
    "plt.fill_between(train_sizes, test_mean - test_std, test_mean + test_std, color=std_color)\n",
    "\n",
    "# Create plot\n",
    "plt.title(\"Learning Curve\")\n",
    "plt.xlabel(\"Training Set Size\"), plt.ylabel(\"Accuracy Score\"), plt.legend(loc=\"best\")\n",
    "plt.tight_layout()\n",
    "plt.show()"
   ]
  },
  {
   "cell_type": "code",
   "execution_count": null,
   "id": "7d4a3d6e",
   "metadata": {},
   "outputs": [],
   "source": []
  },
  {
   "cell_type": "markdown",
   "id": "8244b780",
   "metadata": {},
   "source": [
    "# Confusion Matrix, ROC-AUC"
   ]
  },
  {
   "cell_type": "code",
   "execution_count": null,
   "id": "fdf2b517",
   "metadata": {},
   "outputs": [],
   "source": [
    "from sklearn.metrics import confusion_matrix, roc_auc_score, roc_curve\n"
   ]
  },
  {
   "cell_type": "code",
   "execution_count": null,
   "id": "20c53e93",
   "metadata": {},
   "outputs": [],
   "source": [
    "# Print confusion matrix\n",
    "confusion = confusion_matrix(y_test, y_pred)\n",
    "print(\"Confusion Matrix:\")\n",
    "print(confusion)\n",
    "\n",
    "# Calculate ROC-AUC score\n",
    "roc_auc = roc_auc_score(y_test, y_pred)\n",
    "print(\"ROC-AUC Score:\", roc_auc)\n",
    "\n",
    "# Calculate ROC curve\n",
    "fpr, tpr, thresholds = roc_curve(y_test, y_pred)\n",
    "\n",
    "# Plot ROC curve\n",
    "plt.plot(fpr, tpr)\n",
    "plt.plot([0, 1], [0, 1], linestyle='--')  # Plotting the random guess line\n",
    "plt.xlabel('False Positive Rate')\n",
    "plt.ylabel('True Positive Rate')\n",
    "plt.title('Receiver Operating Characteristic (ROC) Curve')\n",
    "plt.show()"
   ]
  },
  {
   "cell_type": "code",
   "execution_count": null,
   "id": "d6e2683c",
   "metadata": {},
   "outputs": [],
   "source": []
  },
  {
   "cell_type": "code",
   "execution_count": null,
   "id": "96a474b2",
   "metadata": {},
   "outputs": [],
   "source": [
    "# Get the coefficients from the logistic regression model\n",
    "coefficients = loaded_model.coef_[0]\n",
    "\n",
    "# Create a DataFrame to store the feature names and their corresponding coefficients\n",
    "feature_importance_df = pd.DataFrame({'Feature': X.columns, 'Coefficient': coefficients})\n",
    "feature_importance_df['Absolute Coefficient'] = feature_importance_df['Coefficient'].abs()\n",
    "\n",
    "# Sort the features by their absolute coefficients in descending order\n",
    "feature_importance_df = feature_importance_df.sort_values(by='Absolute Coefficient', ascending=False)\n",
    "\n",
    "# Plot the feature importances\n",
    "plt.figure(figsize=(16, 10))\n",
    "sns.barplot(x='Absolute Coefficient', y='Feature', data=feature_importance_df, palette='coolwarm')\n",
    "plt.title(\"Feature Importances (Logistic Regression)\")\n",
    "plt.xlabel(\"Absolute Coefficient\")\n",
    "plt.ylabel(\"Feature\")\n",
    "plt.show()"
   ]
  },
  {
   "cell_type": "code",
   "execution_count": null,
   "id": "ebe2552c",
   "metadata": {},
   "outputs": [],
   "source": []
  },
  {
   "cell_type": "code",
   "execution_count": null,
   "id": "bb423900",
   "metadata": {},
   "outputs": [],
   "source": [
    "corr = X.corr()\n",
    "\n",
    "# Generate a mask for the upper triangle\n",
    "mask = np.triu(np.ones_like(corr, dtype=bool))\n",
    "\n",
    "# Set up the matplotlib figure\n",
    "f, ax = plt.subplots(figsize=(11, 9))\n",
    "\n",
    "# Generate a custom diverging colormap\n",
    "cmap = sns.diverging_palette(230, 20, as_cmap=True)\n",
    "\n",
    "# Draw the heatmap with the mask and correct aspect ratio\n",
    "sns.heatmap(corr, mask=mask, cmap=cmap, vmax=.3, center=0,\n",
    "            square=True, linewidths=.5, cbar_kws={\"shrink\": .5})\n",
    "\n",
    "plt.show()"
   ]
  },
  {
   "cell_type": "code",
   "execution_count": null,
   "id": "1ecc2e9a",
   "metadata": {},
   "outputs": [],
   "source": []
  }
 ],
 "metadata": {
  "kernelspec": {
   "display_name": "Python 3 (ipykernel)",
   "language": "python",
   "name": "python3"
  },
  "language_info": {
   "codemirror_mode": {
    "name": "ipython",
    "version": 3
   },
   "file_extension": ".py",
   "mimetype": "text/x-python",
   "name": "python",
   "nbconvert_exporter": "python",
   "pygments_lexer": "ipython3",
   "version": "3.10.11"
  }
 },
 "nbformat": 4,
 "nbformat_minor": 5
}
