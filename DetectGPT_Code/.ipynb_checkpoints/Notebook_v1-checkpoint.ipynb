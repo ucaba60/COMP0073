{
 "cells": [
  {
   "cell_type": "markdown",
   "id": "8179d8eb",
   "metadata": {},
   "source": [
    "# Data Pre-Processing\n",
    "\n",
    "## First, the PubMed Dataset\n",
    "### Goals are to:\n",
    "\n",
    "Extract the Q&A, have a list of all the Questions and list of all the Answers.\n",
    "\n",
    "\n",
    "Label the human-answers accordingly.\n",
    "\n",
    "\n",
    "Calculate relevant POS-tags for the human answers.\n",
    "\n",
    "\n",
    "Calculate the perplexity of the human answers.\n",
    "\n",
    "\n",
    "Plot the average perplexity of the human answers.\n",
    "\n",
    "\n",
    "Have a function ready that prompts GPT with the Question and labels all the answers accordingly.\n",
    "\n",
    "\n",
    "### Note, using sciSpaCy for tokenizaiton and POS-tagging as it is faster than BERT\n"
   ]
  },
  {
   "cell_type": "code",
   "execution_count": 53,
   "id": "ca9d0d0f",
   "metadata": {},
   "outputs": [],
   "source": [
    "#Imports \n",
    "import random\n",
    "import datasets\n",
    "import spacy\n",
    "from collections import Counter\n",
    "import torch\n",
    "from transformers import BertTokenizer, BertForMaskedLM\n",
    "import seaborn as sns\n",
    "import matplotlib.pyplot as plt\n"
   ]
  },
  {
   "cell_type": "code",
   "execution_count": 3,
   "id": "ebc08090",
   "metadata": {},
   "outputs": [
    {
     "name": "stderr",
     "output_type": "stream",
     "text": [
      "Some weights of the model checkpoint at allenai/scibert_scivocab_uncased were not used when initializing BertForMaskedLM: ['cls.seq_relationship.weight', 'cls.seq_relationship.bias']\n",
      "- This IS expected if you are initializing BertForMaskedLM from the checkpoint of a model trained on another task or with another architecture (e.g. initializing a BertForSequenceClassification model from a BertForPreTraining model).\n",
      "- This IS NOT expected if you are initializing BertForMaskedLM from the checkpoint of a model that you expect to be exactly identical (initializing a BertForSequenceClassification model from a BertForSequenceClassification model).\n"
     ]
    }
   ],
   "source": [
    "#Loading the spacy small model for tokenization\n",
    "nlp = spacy.load('en_core_web_sm')\n",
    "\n",
    "#Loading SciBERT for scientific text, since the medical text is scientific\n",
    "model = BertForMaskedLM.from_pretrained('allenai/scibert_scivocab_uncased')\n",
    "tokenizer = BertTokenizer.from_pretrained('allenai/scibert_scivocab_uncased')"
   ]
  },
  {
   "cell_type": "code",
   "execution_count": 11,
   "id": "0e580ca1",
   "metadata": {},
   "outputs": [],
   "source": [
    "def calculate_perplexity(text):\n",
    "    # Tokenize the text and create chunks of max length 512\n",
    "    inputs = tokenizer(text, return_tensors='pt')\n",
    "    input_ids = inputs[\"input_ids\"]\n",
    "\n",
    "    chunk_size = 512 - 2  # We reserve two tokens for [CLS] and [SEP]\n",
    "    input_chunks = input_ids[0].split_with_sizes([chunk_size] * (input_ids.size(1) // chunk_size) + [input_ids.size(1) % chunk_size])\n",
    "\n",
    "    perplexity = 0\n",
    "    for chunk in input_chunks:\n",
    "        # Add the special tokens\n",
    "        chunk = torch.cat([torch.tensor([tokenizer.cls_token_id]), chunk, torch.tensor([tokenizer.sep_token_id])])\n",
    "\n",
    "        # Calculate perplexity for this chunk\n",
    "        with torch.no_grad():\n",
    "            outputs = model(chunk.unsqueeze(0), labels=chunk.unsqueeze(0))\n",
    "            loss = outputs.loss\n",
    "        perplexity += torch.exp(loss).item()\n",
    "\n",
    "    # Return the average perplexity\n",
    "    return perplexity / len(input_chunks)"
   ]
  },
  {
   "cell_type": "markdown",
   "id": "6ef9dca7",
   "metadata": {},
   "source": [
    "In this code, we're splitting the tokenized text into chunks of maximum length chunk_size and calculating the perplexity for each chunk individually. We then return the average perplexity over all chunks. Note that we're adding the special tokens [CLS] and [SEP] to each chunk, which BERT requires"
   ]
  },
  {
   "cell_type": "code",
   "execution_count": 12,
   "id": "75304397",
   "metadata": {},
   "outputs": [
    {
     "name": "stderr",
     "output_type": "stream",
     "text": [
      "Found cached dataset pubmed_qa (C:/Users/atana/.cache/huggingface/datasets/pubmed_qa/pqa_labeled/1.0.0/dd4c39f031a958c7e782595fa4dd1b1330484e8bbadd4d9212e5046f27e68924)\n"
     ]
    }
   ],
   "source": [
    "#Function that loads the PubMed Dataset\n",
    "def load_pubmed():\n",
    "    data = datasets.load_dataset('pubmed_qa', 'pqa_labeled', split='train')\n",
    "\n",
    "    # Separate questions and answers, and create a spaCy Doc for each answer\n",
    "    data = [(q, (nlp(a), 0)) for q, a in zip(data['question'], data['long_answer'])]\n",
    "\n",
    "    return data\n",
    "\n",
    "data = load_pubmed()\n"
   ]
  },
  {
   "cell_type": "code",
   "execution_count": 13,
   "id": "83b97f5c",
   "metadata": {},
   "outputs": [],
   "source": [
    "# Initialize counters\n",
    "pos_counts = Counter()\n",
    "punctuation_counts = Counter()\n",
    "function_word_counts = Counter()\n"
   ]
  },
  {
   "cell_type": "code",
   "execution_count": 14,
   "id": "a94060fb",
   "metadata": {},
   "outputs": [],
   "source": [
    "# Initialize variables for sentence length calculation\n",
    "total_tokens = 0\n",
    "total_sentences = 0\n",
    "\n",
    "# Initialize lists to store perplexities\n",
    "text_perplexities = []\n",
    "sentence_perplexities = []\n",
    "\n",
    "# Combine all answers into one text\n",
    "all_answers = ' '.join(answer_doc.text for _, (answer_doc, _) in data)\n",
    "text_perplexities.append(calculate_perplexity(all_answers))"
   ]
  },
  {
   "cell_type": "code",
   "execution_count": 15,
   "id": "327431fb",
   "metadata": {},
   "outputs": [],
   "source": [
    "for question, (answer_doc, _) in data:\n",
    "    for sent in answer_doc.sents:\n",
    "        sentence_perplexity = calculate_perplexity(sent.text)\n",
    "        if sentence_perplexity < 0:\n",
    "            print(f\"Negative perplexity found: {sentence_perplexity} for sentence: {sent.text}\")\n",
    "        sentence_perplexities.append(sentence_perplexity)\n",
    "    for token in answer_doc:\n",
    "        pos_counts[token.pos_] += 1\n",
    "        if token.is_punct:\n",
    "            punctuation_counts[token.text] += 1\n",
    "        if token.text in {'a', 'in', 'of', 'the'}:\n",
    "            function_word_counts[token.text] += 1\n",
    "    total_tokens += len(answer_doc)\n",
    "    total_sentences += len(list(answer_doc.sents))"
   ]
  },
  {
   "cell_type": "code",
   "execution_count": 16,
   "id": "90033a30",
   "metadata": {},
   "outputs": [],
   "source": [
    "# Calculate average sentence length and perplexities\n",
    "avg_sentence_length = total_tokens / total_sentences if total_sentences > 0 else 0\n",
    "avg_sentence_perplexity = sum(sentence_perplexities) / len(sentence_perplexities) if sentence_perplexities else 0\n",
    "text_perplexity = text_perplexities[0] if text_perplexities else 0"
   ]
  },
  {
   "cell_type": "code",
   "execution_count": 17,
   "id": "1be9ca82",
   "metadata": {},
   "outputs": [
    {
     "name": "stdout",
     "output_type": "stream",
     "text": [
      "Frequency of adjectives: 5748\n",
      "Frequency of adverbs: 1235\n",
      "Frequency of conjunctions: 0\n",
      "Frequency of nouns: 12213\n",
      "Frequency of numbers: 325\n",
      "Frequency of pronouns: 877\n",
      "Frequency of verbs: 4113\n",
      "Frequency of commas: 1203\n",
      "Frequency of fullstops: 1922\n",
      "Frequency of special character '-': 642\n",
      "Frequency of function word 'a': 720\n",
      "Frequency of function word 'in': 1091\n",
      "Frequency of function word 'of': 1678\n",
      "Frequency of function word 'the': 1553\n",
      "Average sentence length: 23.189386056191466\n",
      "Average sentence perplexity: 14.074509770763528\n",
      "Overall text perplexity: 1.1410950522673757\n"
     ]
    }
   ],
   "source": [
    "# Print results\n",
    "print(f\"Frequency of adjectives: {pos_counts['ADJ']}\")\n",
    "print(f\"Frequency of adverbs: {pos_counts['ADV']}\")\n",
    "print(f\"Frequency of conjunctions: {pos_counts['CONJ']}\")\n",
    "print(f\"Frequency of nouns: {pos_counts['NOUN']}\")\n",
    "print(f\"Frequency of numbers: {pos_counts['NUM']}\")\n",
    "print(f\"Frequency of pronouns: {pos_counts['PRON']}\")\n",
    "print(f\"Frequency of verbs: {pos_counts['VERB']}\")\n",
    "print(f\"Frequency of commas: {punctuation_counts[',']}\")\n",
    "print(f\"Frequency of fullstops: {punctuation_counts['.']}\")\n",
    "print(f\"Frequency of special character '-': {punctuation_counts['-']}\")\n",
    "print(f\"Frequency of function word 'a': {function_word_counts['a']}\")\n",
    "print(f\"Frequency of function word 'in': {function_word_counts['in']}\")\n",
    "print(f\"Frequency of function word 'of': {function_word_counts['of']}\")\n",
    "print(f\"Frequency of function word 'the': {function_word_counts['the']}\")\n",
    "print(f\"Average sentence length: {avg_sentence_length}\")\n",
    "print(f\"Average sentence perplexity: {avg_sentence_perplexity}\")\n",
    "print(f\"Overall text perplexity: {text_perplexity}\")"
   ]
  },
  {
   "cell_type": "code",
   "execution_count": 54,
   "id": "335fb721",
   "metadata": {},
   "outputs": [
    {
     "data": {
      "image/png": "[encoded data removed]",
      "text/plain": [
       "<Figure size 640x480 with 1 Axes>"
      ]
     },
     "metadata": {},
     "output_type": "display_data"
    }
   ],
   "source": [
    "# Filter out sentence_perplexities > 10\n",
    "filtered_sentence_perplexities = [p for p in sentence_perplexities if p <= 10]\n",
    "\n",
    "sns.set_style('white')  # Set the plot style to white background\n",
    "sns.kdeplot(filtered_sentence_perplexities, color='skyblue', fill=True)\n",
    "plt.title('Density Plot of Sentence Perplexities')\n",
    "plt.xlabel('Perplexity')\n",
    "plt.ylabel('Density')\n",
    "\n",
    "# Set the limits of x-axis and the ticks on the x-axis\n",
    "plt.xlim(0, 10)\n",
    "plt.xticks(range(0, 13))\n",
    "\n",
    "plt.ylim(0, 0.2)  # Set the maximum value of the y-axis to 1\n",
    "\n",
    "sns.despine()  # Remove the top and right spines\n",
    "\n",
    "plt.show()"
   ]
  },
  {
   "cell_type": "code",
   "execution_count": 52,
   "id": "2a9e11a3",
   "metadata": {},
   "outputs": [],
   "source": [
    "for i, perplexity in enumerate(sentence_perplexities):\n",
    "    if perplexity < 0:\n",
    "        print(f\"Negative perplexity at index {i}: {perplexity}\")"
   ]
  },
  {
   "cell_type": "code",
   "execution_count": null,
   "id": "6e3e6250",
   "metadata": {},
   "outputs": [],
   "source": []
  }
 ],
 "metadata": {
  "kernelspec": {
   "display_name": "Python 3 (ipykernel)",
   "language": "python",
   "name": "python3"
  },
  "language_info": {
   "codemirror_mode": {
    "name": "ipython",
    "version": 3
   },
   "file_extension": ".py",
   "mimetype": "text/x-python",
   "name": "python",
   "nbconvert_exporter": "python",
   "pygments_lexer": "ipython3",
   "version": "3.10.11"
  }
 },
 "nbformat": 4,
 "nbformat_minor": 5
}
