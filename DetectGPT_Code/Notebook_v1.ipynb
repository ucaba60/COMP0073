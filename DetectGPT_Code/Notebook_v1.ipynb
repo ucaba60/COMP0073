{
 "cells": [
  {
   "cell_type": "code",
   "execution_count": 137,
   "id": "c8f677da",
   "metadata": {},
   "outputs": [],
   "source": [
    "import random\n",
    "import datasets\n",
    "from transformers import BertTokenizer, BertForMaskedLM\n",
    "import torch\n",
    "import spacy\n",
    "import seaborn as sns\n",
    "import matplotlib.pyplot as plt\n",
    "import codecs\n",
    "import os"
   ]
  },
  {
   "cell_type": "code",
   "execution_count": null,
   "id": "0dbbfee7",
   "metadata": {},
   "outputs": [],
   "source": []
  },
  {
   "cell_type": "code",
   "execution_count": null,
   "id": "649f8ff5",
   "metadata": {},
   "outputs": [],
   "source": [
    "def process_prompt(prompt):\n",
    "    return prompt.replace('[ WP ]', '').replace('[ OT ]', '').replace('[ IP ]', '').replace('[ HP ]', '').replace('[ TT ]', '').replace('[ Punch ]', '').replace('[ FF ]', '').replace('[ CW ]', '').replace('[ EU ]', '')\n",
    "\n",
    "def process_spaces(story):\n",
    "    return story.replace(\n",
    "        ' ,', ',').replace(\n",
    "        ' .', '.').replace(\n",
    "        ' ?', '?').replace(\n",
    "        ' !', '!').replace(\n",
    "        ' ;', ';').replace(\n",
    "        ' \\'', '\\'').replace(\n",
    "        ' ’ ', '\\'').replace(\n",
    "        ' :', ':').replace(\n",
    "        '<newline>', '\\n').replace(\n",
    "        '`` ', '\"').replace(\n",
    "        ' \\'\\'', '\"').replace(\n",
    "        '\\'\\'', '\"').replace(\n",
    "        '.. ', '... ').replace(\n",
    "        ' )', ')').replace(\n",
    "        '( ', '(').replace(\n",
    "        ' n\\'t', 'n\\'t').replace(\n",
    "        ' i ', ' I ').replace(\n",
    "        ' i\\'', ' I\\'').replace(\n",
    "        '\\\\\\'', '\\'').replace(\n",
    "        '\\n ', '\\n').strip()\n",
    "\n",
    "\n",
    "writing_path = 'data/writingPrompts'\n",
    "\n",
    "with open(f'{writing_path}/valid.wp_source', 'r', encoding='utf-8') as f:\n",
    "    prompts = f.readlines()\n",
    "with open(f'{writing_path}/valid.wp_target', 'r', encoding='utf-8') as f:\n",
    "    stories = f.readlines()\n",
    "\n",
    "prompts = [process_prompt(prompt) for prompt in prompts]\n",
    "stories = [process_spaces(story) for story in stories]\n",
    "joined = [\"Prompt: \" + prompt + \" Story: \" + story for prompt, story in zip(prompts, stories)]\n",
    "filtered = [story for story in joined if 'nsfw' not in story and 'NSFW' not in story]\n",
    "\n",
    "long_data = [x for x in filtered if len(tokenizer(x)['input_ids']) <= 512]\n",
    "if len(long_data) > 0:\n",
    "    filtered = long_data\n",
    "\n",
    "# Create a list of tuples where each tuple is a pair of a prompt and a corresponding story\n",
    "data = list(dict.fromkeys(data))  # Remove duplicate entries\n",
    "\n",
    "print(f\"Loaded {len(data)} prompts and stories from the writingPrompts dataset\")\n"
   ]
  },
  {
   "cell_type": "code",
   "execution_count": null,
   "id": "dec86f89",
   "metadata": {},
   "outputs": [],
   "source": [
    "print(type(data))"
   ]
  },
  {
   "cell_type": "code",
   "execution_count": null,
   "id": "5dc5ddc7",
   "metadata": {},
   "outputs": [],
   "source": []
  }
 ],
 "metadata": {
  "kernelspec": {
   "display_name": "Python 3 (ipykernel)",
   "language": "python",
   "name": "python3"
  },
  "language_info": {
   "codemirror_mode": {
    "name": "ipython",
    "version": 3
   },
   "file_extension": ".py",
   "mimetype": "text/x-python",
   "name": "python",
   "nbconvert_exporter": "python",
   "pygments_lexer": "ipython3",
   "version": "3.10.11"
  }
 },
 "nbformat": 4,
 "nbformat_minor": 5
}
