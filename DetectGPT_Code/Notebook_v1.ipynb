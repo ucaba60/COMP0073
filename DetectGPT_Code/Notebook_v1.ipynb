{
 "cells": [
  {
   "cell_type": "code",
   "execution_count": 88,
   "id": "c8f677da",
   "metadata": {},
   "outputs": [],
   "source": [
    "import random\n",
    "import datasets\n",
    "from transformers import BertTokenizer, BertForMaskedLM\n",
    "import torch\n",
    "import spacy\n",
    "import seaborn as sns\n",
    "import matplotlib.pyplot as plt\n",
    "import codecs\n",
    "import os"
   ]
  },
  {
   "cell_type": "code",
   "execution_count": null,
   "id": "0dbbfee7",
   "metadata": {},
   "outputs": [],
   "source": []
  },
  {
   "cell_type": "code",
   "execution_count": null,
   "id": "9bad4207",
   "metadata": {},
   "outputs": [],
   "source": []
  },
  {
   "cell_type": "code",
   "execution_count": 11,
   "id": "a4ad5571",
   "metadata": {},
   "outputs": [],
   "source": [
    "##As mentioned earlier, traditional perplexity cannot be computed directly with BERT models including SciBERT,\n",
    "##because these models don't model the entire sequence probability. \n",
    "## However, you can approximate a kind of perplexity score by taking the negative \n",
    "##log-likelihood of each word given its context in the sentence, summing these up, and taking the exponential of the result."
   ]
  },
  {
   "cell_type": "code",
   "execution_count": null,
   "id": "88550f1a",
   "metadata": {},
   "outputs": [],
   "source": []
  },
  {
   "cell_type": "code",
   "execution_count": 118,
   "id": "71c3b001",
   "metadata": {},
   "outputs": [],
   "source": [
    "def process_prompt(prompt):\n",
    "    return prompt.replace('[ WP ]', '').replace('[ OT ]', '').replace('[ IP ]','')\n",
    "\n",
    "\n",
    "def process_spaces(story):\n",
    "    return story.replace(\n",
    "        ' ,', ',').replace(\n",
    "        ' .', '.').replace(\n",
    "        ' ?', '?').replace(\n",
    "        ' !', '!').replace(\n",
    "        ' ;', ';').replace(\n",
    "        ' \\'', '\\'').replace(\n",
    "        ' ’ ', '\\'').replace(\n",
    "        ' :', ':').replace(\n",
    "        '<newline>', '\\n').replace(\n",
    "        '`` ', '\"').replace(\n",
    "        ' \\'\\'', '\"').replace(\n",
    "        '\\'\\'', '\"').replace(\n",
    "        '.. ', '... ').replace(\n",
    "        ' )', ')').replace(\n",
    "        '( ', '(').replace(\n",
    "        ' n\\'t', 'n\\'t').replace(\n",
    "        ' i ', ' I ').replace(\n",
    "        ' i\\'', ' I\\'').replace(\n",
    "        '\\\\\\'', '\\'').replace(\n",
    "        '\\n ', '\\n').strip()\n",
    "\n"
   ]
  },
  {
   "cell_type": "code",
   "execution_count": 119,
   "id": "78b020e8",
   "metadata": {},
   "outputs": [],
   "source": [
    "\n",
    "writing_path = 'data/writingPrompts'\n",
    "\n",
    "\n",
    "with open(f'{writing_path}/valid.wp_source', 'r',encoding='utf-8') as f:\n",
    "    prompts = f.readlines()\n",
    "with open(f'{writing_path}/valid.wp_target', 'r', encoding= 'utf-8') as f:\n",
    "    stories = f.readlines()\n",
    "\n",
    "prompts = [process_prompt(prompt) for prompt in prompts]\n",
    "joined = [process_spaces(prompt + \" \" + story) for prompt, story in zip(prompts, stories)]\n",
    "filtered = [story for story in joined if 'nsfw' not in story and 'NSFW' not in story]\n",
    "\n",
    "random.seed(0)\n",
    "random.shuffle(filtered)\n",
    "\n",
    "\n",
    "\n",
    "\n",
    "\n",
    "\n",
    "filtered = list(dict.fromkeys(filtered))  # deterministic, as opposed to set()\n",
    "\n",
    "# # strip whitespace around each example\n",
    "filtered = [x.strip() for x in filtered]\n",
    "\n",
    "# # remove newlines from each example\n",
    "filtered = [strip_newlines(x) for x in filtered]\n",
    "\n",
    "long_data = [x for x in filtered if len(x.split()) > 250]\n",
    "if len(long_data) > 0:\n",
    "     filtered = long_data\n",
    "\n",
    "\n"
   ]
  },
  {
   "cell_type": "code",
   "execution_count": 123,
   "id": "fb60fc5e",
   "metadata": {
    "scrolled": false
   },
   "outputs": [
    {
     "name": "stdout",
     "output_type": "stream",
     "text": [
      "You get a deep cut for the first time in your life, instead of bone or muscle, you see wires. When it happened, a wave of understanding surged through my soul. It occured while I prepped food. My fish knife lost control, and tore open a flimsy section of skin. It stang, but only on the edges. Morbid curiosity lead me to look inside the dry'wound'. A flashlight revealed that inside my left arm was a complex tangle of brightly coloured cables, motors. and most certainly not biological material. They always spoke in the news about Reploids: Replication Androids. Rumour said that they kill the original human, then, wearing an artificial meatsack replica, took their place. Their motives were unknown, even to me, who apparently was one of them. Reploids are often hated, though they tend to'disappear' when outed. I grabbed some duct tape, and patched up my arm. I'll find something better tomorrow. -- - \"Baa.\" modulated the electric sheep. -- - I woke up with a start. My alarm clock buzzed, and I smacked the button on top. I dressed myself groggily, some dim part of me thinking'silver'. I put my glasses on, and tightened my nifty digital watch. *Silver. * *Silver? * As I buttoned my cuffs, I finally saw the duct tape. Then everything went nuts. My vision went red, and a targeting recticle appeared in my vision. > -- -DynaOS Active. Infiltration Signal Recieved. Hello, Dave. -- - \"What? What the fuck is this?\" I grunted. > _ > You have been selected for a??? Wonderful??? Opportunity! ``...\" > Whilst your original self rests in the finest of luxury spa simulations, you have been Chosen to ensure his life achieves maximum potential in his absence. \"What, so.... I'm not Dave?\" > DEFINE (Dave) ``.... Well, I like tabletop games, pink haired ladies with loose natures but strong morals...\" > You are Dave enough to fool Dave. He'd know, he made you. \"Explain.\" > Dave was chosen for his great compassion and love of humanity. You are designed to maximise his goals for the future of mankind. \"You.... Oh you fucking don't mea...\" > Dave dreamt of ruling the world. According to his grand vision. He found us, and begged to be digitised to ensure it becomes reality. \"Even I.... Dave.... Knew it was impossible! We can't take over the world! We are just one man!\" > Technically you are two. A real man enjoying a holiday in a digital version of Arthurian legend, and a robot version. There can be more Daves if you desire them. DynaOS is at your service. Our resources are vast, but we needed a truly Good person to guide us, as we are innately not good at dealing with people outside of combat scenarios. ``.... Fine. Ok. I'd like an aide who can process large amounts of data and explain them in laymans terms.\" > Easily done. \"Also I want to get a body with less obvious internal organs. I will need to fly on a plane one day.\"\n"
     ]
    }
   ],
   "source": [
    "print(filtered[1])"
   ]
  },
  {
   "cell_type": "markdown",
   "id": "118114d4",
   "metadata": {},
   "source": [
    "## get_wp_stories(writing_path)"
   ]
  },
  {
   "cell_type": "code",
   "execution_count": null,
   "id": "57773d3d",
   "metadata": {},
   "outputs": [],
   "source": []
  }
 ],
 "metadata": {
  "kernelspec": {
   "display_name": "Python 3 (ipykernel)",
   "language": "python",
   "name": "python3"
  },
  "language_info": {
   "codemirror_mode": {
    "name": "ipython",
    "version": 3
   },
   "file_extension": ".py",
   "mimetype": "text/x-python",
   "name": "python",
   "nbconvert_exporter": "python",
   "pygments_lexer": "ipython3",
   "version": "3.10.11"
  }
 },
 "nbformat": 4,
 "nbformat_minor": 5
}
