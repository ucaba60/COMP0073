{
 "cells": [
  {
   "cell_type": "code",
   "execution_count": 25,
   "id": "8e459c2d",
   "metadata": {},
   "outputs": [],
   "source": [
    "import pandas as pd\n",
    "from sklearn.model_selection import train_test_split, RandomizedSearchCV\n",
    "from sklearn.ensemble import StackingClassifier\n",
    "from sklearn.linear_model import LogisticRegression\n",
    "from sklearn.svm import SVC\n",
    "from sklearn.ensemble import RandomForestClassifier\n",
    "from sklearn.preprocessing import StandardScaler\n",
    "from sklearn.pipeline import make_pipeline\n",
    "from sklearn.metrics import accuracy_score, recall_score, precision_score, f1_score, confusion_matrix\n",
    "import seaborn as sns\n",
    "import matplotlib.pyplot as plt"
   ]
  },
  {
   "cell_type": "code",
   "execution_count": 21,
   "id": "0e4abef8",
   "metadata": {},
   "outputs": [],
   "source": [
    "#Now Max_iter = 1000"
   ]
  },
  {
   "cell_type": "code",
   "execution_count": 15,
   "id": "d2e8ff98",
   "metadata": {},
   "outputs": [],
   "source": [
    "# Load the data\n",
    "data = pd.read_csv('data_matrix.csv')\n",
    "\n",
    "# Extract features and labels\n",
    "X = data.drop(columns=['label'])\n",
    "y = data['label']\n",
    "\n",
    "\n",
    "# Split the data into training and test sets\n",
    "X_train, X_test, y_train, y_test = train_test_split(X, y, test_size=0.2, random_state=42)\n",
    "\n",
    "# Define base models\n",
    "base_models = [\n",
    "    ('lr', make_pipeline(StandardScaler(), LogisticRegression(max_iter=1000))),\n",
    "    ('svm', make_pipeline(StandardScaler(), SVC())),\n",
    "    ('rf', RandomForestClassifier())\n",
    "]\n",
    "\n",
    "\n",
    "# Define stacking classifier\n",
    "stacking_clf = StackingClassifier(estimators=base_models, final_estimator=LogisticRegression())\n",
    "\n",
    "\n",
    "# Define hyperparameters for random search\n",
    "param_distributions = {\n",
    "    'lr__logisticregression__C': [0.1, 1.0, 10.0],\n",
    "    'svm__svc__C': [0.1, 1.0, 10.0],\n",
    "    'svm__svc__gamma': ['scale', 'auto'],\n",
    "    'rf__n_estimators': [100, 200],\n",
    "    'rf__max_depth': [None, 5, 10],\n",
    "}"
   ]
  },
  {
   "cell_type": "code",
   "execution_count": 16,
   "id": "91aaebf9",
   "metadata": {},
   "outputs": [
    {
     "name": "stdout",
     "output_type": "stream",
     "text": [
      "Best parameters: {'svm__svc__gamma': 'auto', 'svm__svc__C': 10.0, 'rf__n_estimators': 200, 'rf__max_depth': None, 'lr__logisticregression__C': 0.1}\n",
      "Test accuracy: 0.9333333333333333\n"
     ]
    }
   ],
   "source": [
    "# Perform random search\n",
    "random_search = RandomizedSearchCV(stacking_clf, param_distributions, n_iter=50, cv=4, n_jobs=-1, random_state=42)\n",
    "random_search.fit(X_train, y_train)\n",
    "\n",
    "# Print the best hyperparameters\n",
    "print(f\"Best parameters: {random_search.best_params_}\")\n",
    "\n",
    "# Evaluate the model on the test set\n",
    "test_score = random_search.score(X_test, y_test)\n",
    "print(f\"Test accuracy: {test_score}\")"
   ]
  },
  {
   "cell_type": "code",
   "execution_count": 26,
   "id": "a36fc329",
   "metadata": {},
   "outputs": [
    {
     "name": "stdout",
     "output_type": "stream",
     "text": [
      "Accuracy: 0.9303030303030303\n",
      "Recall: 0.9276315789473685\n",
      "Precision: 0.9215686274509803\n",
      "F1 Score: 0.9245901639344262\n",
      "Confusion Matrix: \n",
      "[[166  12]\n",
      " [ 11 141]]\n"
     ]
    },
    {
     "data": {
      "image/png": "[encoded data removed]",
      "text/plain": [
       "<Figure size 640x480 with 2 Axes>"
      ]
     },
     "metadata": {},
     "output_type": "display_data"
    }
   ],
   "source": [
    "# Use the fitted model to make predictions on the test set\n",
    "y_pred = random_search.predict(X_test)\n",
    "\n",
    "# Print accuracy\n",
    "accuracy = accuracy_score(y_test, y_pred)\n",
    "print(f\"Accuracy: {accuracy}\")\n",
    "\n",
    "# Print recall\n",
    "recall = recall_score(y_test, y_pred)\n",
    "print(f\"Recall: {recall}\")\n",
    "\n",
    "# Print precision\n",
    "precision = precision_score(y_test, y_pred)\n",
    "print(f\"Precision: {precision}\")\n",
    "\n",
    "# Print F1 score\n",
    "f1 = f1_score(y_test, y_pred)\n",
    "print(f\"F1 Score: {f1}\")\n",
    "\n",
    "# Print confusion matrix\n",
    "confusion_mat = confusion_matrix(y_test, y_pred)\n",
    "print(f\"Confusion Matrix: \\n{confusion_mat}\")\n",
    "\n",
    "\n",
    "# plot the confusion matrix using seaborn\n",
    "sns.heatmap(confusion_mat, annot=True, fmt='d')\n",
    "plt.ylabel('Actual')\n",
    "plt.xlabel('Predicted')\n",
    "plt.show()"
   ]
  },
  {
   "cell_type": "code",
   "execution_count": 27,
   "id": "4c41ae7a",
   "metadata": {},
   "outputs": [
    {
     "name": "stdout",
     "output_type": "stream",
     "text": [
      "Training Accuracy: 0.9840909090909091\n",
      "Test Accuracy: 0.9303030303030303\n"
     ]
    }
   ],
   "source": [
    "# Print accuracy on training set\n",
    "y_train_pred = random_search.predict(X_train)\n",
    "train_accuracy = accuracy_score(y_train, y_train_pred)\n",
    "print(f\"Training Accuracy: {train_accuracy}\")\n",
    "\n",
    "# Print accuracy on test set\n",
    "test_accuracy = accuracy_score(y_test, y_pred)\n",
    "print(f\"Test Accuracy: {test_accuracy}\")"
   ]
  },
  {
   "cell_type": "code",
   "execution_count": null,
   "id": "8e0ac5f1",
   "metadata": {},
   "outputs": [],
   "source": []
  }
 ],
 "metadata": {
  "kernelspec": {
   "display_name": "Python 3 (ipykernel)",
   "language": "python",
   "name": "python3"
  },
  "language_info": {
   "codemirror_mode": {
    "name": "ipython",
    "version": 3
   },
   "file_extension": ".py",
   "mimetype": "text/x-python",
   "name": "python",
   "nbconvert_exporter": "python",
   "pygments_lexer": "ipython3",
   "version": "3.10.11"
  }
 },
 "nbformat": 4,
 "nbformat_minor": 5
}
